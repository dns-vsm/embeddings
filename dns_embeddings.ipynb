{
 "cells": [
  {
   "cell_type": "markdown",
   "metadata": {},
   "source": [
    "# DNS embeddings"
   ]
  },
  {
   "cell_type": "markdown",
   "metadata": {},
   "source": [
    "## 1 - Load the embeddings"
   ]
  },
  {
   "cell_type": "code",
   "execution_count": 1,
   "metadata": {},
   "outputs": [],
   "source": [
    "from gensim.models.wrappers.fasttext import FastText as ft\n",
    "dns_embeddings = ft.load('models/ft/21epoc_minn11_maxn17')"
   ]
  },
  {
   "cell_type": "markdown",
   "metadata": {},
   "source": [
    "## 2 - Get predictions"
   ]
  },
  {
   "cell_type": "code",
   "execution_count": 2,
   "metadata": {},
   "outputs": [
    {
     "data": {
      "text/plain": [
       "[('subrayado.com', 0.9160100221633911),\n",
       " ('diariolarepublica.net', 0.8355216979980469),\n",
       " ('eldiario.com.uy', 0.807044267654419),\n",
       " ('lr21.com.uy', 0.7994014024734497),\n",
       " ('teledoce.com', 0.7916869521141052),\n",
       " ('elecodigital.com.uy', 0.7739754915237427),\n",
       " ('causaabierta.com.uy', 0.7702589631080627),\n",
       " ('unoticias.com.uy', 0.7664780616760254),\n",
       " ('radiouruguay.com.uy', 0.7660830020904541),\n",
       " ('uypress.net', 0.742232084274292),\n",
       " ('sangregoriodepolancodigital.com.uy', 0.7303887605667114),\n",
       " ('vivomontevideo.com', 0.710254430770874),\n",
       " ('elnacional.com.uy', 0.7085186243057251),\n",
       " ('carnavaldeluruguay.com', 0.7016206979751587),\n",
       " ('informarte.com.uy', 0.7008339166641235)]"
      ]
     },
     "execution_count": 2,
     "metadata": {},
     "output_type": "execute_result"
    }
   ],
   "source": [
    "dns_embeddings.most_similar('subrayado.com.uy', topn=15)"
   ]
  },
  {
   "cell_type": "code",
   "execution_count": 3,
   "metadata": {},
   "outputs": [
    {
     "data": {
      "text/plain": [
       "[('gonzalorodriguez.org', 0.8535780906677246),\n",
       " ('autoanuario.com.uy', 0.8447151184082031),\n",
       " ('mundoautomotor.com.ar', 0.822021484375),\n",
       " ('cochesyconcesionarios.com', 0.8198953866958618),\n",
       " ('area75.com.ar', 0.8057596683502197),\n",
       " ('autos-chinos.com', 0.80348140001297),\n",
       " ('suzuki.com.uy', 0.7814224362373352),\n",
       " ('peugeot.com.uy', 0.7785277366638184),\n",
       " ('gonzaloruiz.com.uy', 0.774579644203186),\n",
       " ('masautos.com.uy', 0.7742289304733276),\n",
       " ('autosenuruguay.com', 0.7687051892280579),\n",
       " ('mundoautomotor.com', 0.7672389149665833),\n",
       " ('rcristofano.com', 0.7585819959640503),\n",
       " ('autoschinos.com.uy', 0.7531734108924866),\n",
       " ('chana.com.uy', 0.7527319192886353)]"
      ]
     },
     "execution_count": 3,
     "metadata": {},
     "output_type": "execute_result"
    }
   ],
   "source": [
    "dns_embeddings.most_similar('autoblog.com.uy', topn=15)"
   ]
  },
  {
   "cell_type": "code",
   "execution_count": 4,
   "metadata": {},
   "outputs": [
    {
     "data": {
      "text/plain": [
       "[('youporn.com', 0.8787915110588074),\n",
       " ('phncdn.com', 0.8403894305229187),\n",
       " ('tube8.com', 0.7953190803527832),\n",
       " ('youporn.com.es', 0.7584182620048523),\n",
       " ('videospornhub.com', 0.7084945440292358),\n",
       " ('xxxcupid.com', 0.6958621740341187),\n",
       " ('german-youporn.com', 0.6955263614654541),\n",
       " ('pornhubpremium.com', 0.6934264302253723),\n",
       " ('genericlink.com', 0.6869221925735474),\n",
       " ('youporngay.com', 0.6804925203323364),\n",
       " ('videosxxxgratis.info', 0.6801930665969849),\n",
       " ('doublepimp.com', 0.6562666893005371),\n",
       " ('conejox.com', 0.6490557193756104),\n",
       " ('redirect.mysponsor.tv', 0.648033082485199),\n",
       " ('cerdas.com', 0.6374837160110474)]"
      ]
     },
     "execution_count": 4,
     "metadata": {},
     "output_type": "execute_result"
    }
   ],
   "source": [
    "dns_embeddings.most_similar('pornhub.com', topn=15)"
   ]
  },
  {
   "cell_type": "markdown",
   "metadata": {},
   "source": [
    "## 3 - Analogical reasoning with DNS vectors"
   ]
  },
  {
   "cell_type": "code",
   "execution_count": 5,
   "metadata": {},
   "outputs": [
    {
     "data": {
      "text/plain": [
       "[('destinoatlantida.com', 0.7901754379272461),\n",
       " ('puntaweb.com', 0.7796562910079956),\n",
       " ('puntadeleste.com', 0.7146644592285156)]"
      ]
     },
     "execution_count": 5,
     "metadata": {},
     "output_type": "execute_result"
    }
   ],
   "source": [
    "# v1 = atlantida.com.uy (site related to Atlantida, the main resort in Canelones city )\n",
    "# v2 = maldonado.gub.uy (site for the Maldonado city government) \n",
    "# v3 = canelones.gub.uy puntaweb.com (site for the Canelones city government) \n",
    "\n",
    "# v1 + v2 - v3 ~= puntaweb.com (site related to Punta del Este, the main resort in Maldonado city)\n",
    "# v1 + v2 - v3 ~= puntadeleste.com (site related to Punta del Este, the main resort in Maldonado city)\n",
    "\n",
    "dns_embeddings.most_similar(positive=['atlantida.com.uy', 'maldonado.gub.uy'], negative=['canelones.gub.uy'], topn=3)"
   ]
  },
  {
   "cell_type": "code",
   "execution_count": 6,
   "metadata": {},
   "outputs": [],
   "source": [
    "# v1 = puntashopping.com.uy (site for a shopping center in Maldonado city)\n",
    "# v2 = montevideo.gub.uy (site for the Montevideo city government)\n",
    "# v3 = maldonado.gub.uy puntaweb.com (site for the Maldonado city government)\n",
    "\n",
    "# v1 + v2 - v3 ~= tiendasmontevideo.com (site for shopping center in Montevideo city)\n",
    "# v1 + v2 - v3 ~= montevideoshopping.com.uy (site for shopping center in Montevideo city)"
   ]
  },
  {
   "cell_type": "code",
   "execution_count": 7,
   "metadata": {},
   "outputs": [
    {
     "data": {
      "text/plain": [
       "[('tiendasmontevideo.com', 0.6983073949813843),\n",
       " ('pedidosya.com.uy', 0.6858967542648315),\n",
       " ('montevideoshopping.com.uy', 0.6752519607543945)]"
      ]
     },
     "execution_count": 7,
     "metadata": {},
     "output_type": "execute_result"
    }
   ],
   "source": [
    "dns_embeddings.most_similar(positive=['puntashopping.com.uy', 'montevideo.gub.uy'], negative=['maldonado.gub.uy'], topn=3)"
   ]
  },
  {
   "cell_type": "markdown",
   "metadata": {},
   "source": [
    "## 4 - Support for names that are out of the vocabulary"
   ]
  },
  {
   "cell_type": "code",
   "execution_count": 8,
   "metadata": {},
   "outputs": [
    {
     "data": {
      "text/plain": [
       "[('santanderuniversidades.com.uy', 0.9953925013542175),\n",
       " ('bancamovilsantander.com.uy', 0.9528511762619019),\n",
       " ('santander.com.uy', 0.9180302619934082),\n",
       " ('multidiscount.net', 0.8109256029129028),\n",
       " ('bcu.gub.uy', 0.8083128333091736),\n",
       " ('discbank.com.uy', 0.8015027046203613),\n",
       " ('browserforthebetter.com', 0.7846260070800781),\n",
       " ('brou.com.uy', 0.7511576414108276),\n",
       " ('nbc.com.uy', 0.7493535280227661),\n",
       " ('intermedia.com.uy', 0.7440301179885864),\n",
       " ('bbvabanco.com.uy', 0.7431423664093018),\n",
       " ('bandes.com.uy', 0.7383270263671875),\n",
       " ('santander.com', 0.7364956140518188),\n",
       " ('pb-santander.com', 0.7321802377700806),\n",
       " ('prestamoshipotecarios.com.uy', 0.7187671661376953)]"
      ]
     },
     "execution_count": 8,
     "metadata": {},
     "output_type": "execute_result"
    }
   ],
   "source": [
    "dns_embeddings.most_similar('samtanderuniversidades.con.uy', topn=15)"
   ]
  },
  {
   "cell_type": "markdown",
   "metadata": {},
   "source": [
    "## 5 - Other operations with the embeddings"
   ]
  },
  {
   "cell_type": "code",
   "execution_count": 9,
   "metadata": {},
   "outputs": [
    {
     "data": {
      "text/plain": [
       "0.5719542606249806"
      ]
     },
     "execution_count": 9,
     "metadata": {},
     "output_type": "execute_result"
    }
   ],
   "source": [
    "dns_embeddings.similarity('elpais.com.uy', 'lr21.com.uy')"
   ]
  },
  {
   "cell_type": "code",
   "execution_count": 10,
   "metadata": {},
   "outputs": [
    {
     "data": {
      "text/plain": [
       "0.6919086171657831"
      ]
     },
     "execution_count": 10,
     "metadata": {},
     "output_type": "execute_result"
    }
   ],
   "source": [
    "dns_embeddings.similarity('elpais.com.uy', 'observador.com.uy')"
   ]
  },
  {
   "cell_type": "code",
   "execution_count": 11,
   "metadata": {},
   "outputs": [
    {
     "name": "stdout",
     "output_type": "stream",
     "text": [
      "[ 2.61009    -4.1921687   2.9463909   1.1478273   1.1328418  -0.12903813\n",
      "  2.251682   -0.4214612  -1.1774279  -0.86958855  1.7774059  -0.39260012\n",
      " -0.16472146 -0.15398341  2.9564018   1.9138947   0.9554471  -0.09910203\n",
      " -1.7601196  -3.1151419   0.5680816   3.3717134   1.3116078   0.32379758\n",
      " -0.41205385  3.0059516   0.28583077  1.9796828  -1.0896446  -2.1190948\n",
      "  1.8653215  -2.7476063  -1.5081612  -0.41755986 -0.16186    -0.94643617\n",
      "  1.6081628   0.9016567   0.8466317  -0.48339814 -1.3045565  -0.06088967\n",
      " -0.460761    0.53961706  1.9750918   1.5561733   1.1335715  -0.83484936\n",
      "  0.3765009  -0.58358943  2.3282328  -0.05932061 -1.8372589  -2.7496917\n",
      " -3.9053473   0.04385379 -0.27176103 -0.70694995 -0.14748901 -1.2158818\n",
      "  1.0473628   1.6690867  -0.7001261  -3.4548273 ]\n"
     ]
    }
   ],
   "source": [
    "embedding = dns_embeddings['montevideo.gub.uy']\n",
    "print(embedding)"
   ]
  },
  {
   "cell_type": "code",
   "execution_count": 12,
   "metadata": {},
   "outputs": [
    {
     "data": {
      "text/plain": [
       "(64,)"
      ]
     },
     "execution_count": 12,
     "metadata": {},
     "output_type": "execute_result"
    }
   ],
   "source": [
    "embedding.shape"
   ]
  },
  {
   "cell_type": "markdown",
   "metadata": {},
   "source": [
    "## 6 - References\n",
    "\n",
    "[1] W. Lopez, <i>\"Vector representation of Internet domain names using word embedding techniques,\"</i> \n",
    "M.S. thesis, Instituto de Computación, Facultad de Ingenierı́a, Universidad de la República, Montevideo, Uruguay, 2019.\n",
    "\n",
    "[2] W. Lopez, J. Merlino and P. Rodriguez-Bocca, <i>\"Extracting semantic information from Internet Domain Names using word embeddings\"</i>,\n",
    "submitted to Engineering Applications of Artificial Intelligence (ELSEVIER), 2019.\n",
    "\n",
    "[3] W. Lopez, J. Merlino and P. Rodriguez-Bocca, <i>\"Vector representation of internet domain names using a word embedding technique,\"</i> \n",
    "2017 XLIII Latin American Computer Conference (CLEI), Cordoba, 2017, pp. 1-8.\n"
   ]
  }
 ],
 "metadata": {
  "kernelspec": {
   "display_name": "thesis",
   "language": "python",
   "name": "thesis"
  },
  "language_info": {
   "codemirror_mode": {
    "name": "ipython",
    "version": 3
   },
   "file_extension": ".py",
   "mimetype": "text/x-python",
   "name": "python",
   "nbconvert_exporter": "python",
   "pygments_lexer": "ipython3",
   "version": "3.6.4"
  }
 },
 "nbformat": 4,
 "nbformat_minor": 2
}
